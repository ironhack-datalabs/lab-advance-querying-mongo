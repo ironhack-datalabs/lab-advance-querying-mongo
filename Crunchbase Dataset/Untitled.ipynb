{
 "cells": [
  {
   "cell_type": "code",
   "execution_count": 60,
   "metadata": {},
   "outputs": [
    {
     "ename": "TypeError",
     "evalue": "__str__ returned non-string (type filter)",
     "output_type": "error",
     "traceback": [
      "\u001b[1;31m---------------------------------------------------------------------------\u001b[0m",
      "\u001b[1;31mTypeError\u001b[0m                                 Traceback (most recent call last)",
      "\u001b[1;32m<ipython-input-60-37422bffa333>\u001b[0m in \u001b[0;36m<module>\u001b[1;34m\u001b[0m\n\u001b[0;32m     27\u001b[0m \u001b[0mb\u001b[0m \u001b[1;33m=\u001b[0m \u001b[0mVector\u001b[0m\u001b[1;33m(\u001b[0m\u001b[1;33m[\u001b[0m\u001b[1;36m3\u001b[0m\u001b[1;33m,\u001b[0m \u001b[1;36m4\u001b[0m\u001b[1;33m,\u001b[0m \u001b[1;36m5\u001b[0m\u001b[1;33m]\u001b[0m\u001b[1;33m)\u001b[0m\u001b[1;33m\u001b[0m\u001b[1;33m\u001b[0m\u001b[0m\n\u001b[0;32m     28\u001b[0m \u001b[1;33m\u001b[0m\u001b[0m\n\u001b[1;32m---> 29\u001b[1;33m \u001b[0mprint\u001b[0m\u001b[1;33m(\u001b[0m\u001b[0ma\u001b[0m\u001b[1;33m.\u001b[0m\u001b[0madd\u001b[0m\u001b[1;33m(\u001b[0m\u001b[0mb\u001b[0m\u001b[1;33m)\u001b[0m\u001b[1;33m)\u001b[0m\u001b[1;33m\u001b[0m\u001b[1;33m\u001b[0m\u001b[0m\n\u001b[0m",
      "\u001b[1;31mTypeError\u001b[0m: __str__ returned non-string (type filter)"
     ]
    }
   ],
   "source": [
    "import numpy as np\n",
    "class Vector:\n",
    "    def __init__(self,arr):\n",
    "        self.arr = arr\n",
    "        \n",
    "    def add(self,Vector):\n",
    "        arr3 = (np.add(self.arr,Vector.arr)).tolist()\n",
    "        return (self.__class__(arr3))\n",
    "    \n",
    "    def subtract(self,Vector):\n",
    "        arr3 = (np.subtract(self.arr,Vector.arr)).tolist()\n",
    "        return (self.__class__(arr3))\n",
    "    \n",
    "    def dot(self,Vector):\n",
    "        return (np.dot(self.arr,Vector.arr))\n",
    "        \n",
    "    def norm(self):\n",
    "        norm = sum(i**2 for i in self.arr)\n",
    "        return (norm**0.5)\n",
    "        \n",
    "    def __str__(self):\n",
    "        return (str(self.arr).replace(']',')').replace('[','(').replace(' ',''))\n",
    "        \n",
    "    def toString(self):\n",
    "        return self.__str__()\n",
    "    \n",
    "        \n",
    "    def equals(self,Vector):\n",
    "        return (self.toString() == Vector.toString())\n",
    "\n",
    "\n"
   ]
  },
  {
   "cell_type": "code",
   "execution_count": 13,
   "metadata": {},
   "outputs": [],
   "source": [
    "def __add__(self, other):\n",
    "        return vector(object.x + other.x, sobject.y + other.y)\n",
    "\n",
    "    def __sub__(self, other):\n",
    "        return vector(self.x - other.x, self.y - other.y)\n",
    "\n",
    "    def __mul__(self, other):\n",
    "        return self.x*other.x + self.y*other.y\n",
    "\n",
    "    def __abs__(self):\n",
    "        return math.sqrt(self.x**2 + self.y**2)\n",
    "\n",
    "    def __eq__(self, other):\n",
    "        return self.x == other.x and self.y == other.y\n",
    "    def __dot__(self,other):\n",
    "        return np.dot(x,y)\n",
    "\n",
    "    def __str__(self):\n",
    "        return '(%g, %g)' % (self.x, self.y)"
   ]
  },
  {
   "cell_type": "code",
   "execution_count": null,
   "metadata": {},
   "outputs": [],
   "source": []
  }
 ],
 "metadata": {
  "kernelspec": {
   "display_name": "Python 3",
   "language": "python",
   "name": "python3"
  },
  "language_info": {
   "codemirror_mode": {
    "name": "ipython",
    "version": 3
   },
   "file_extension": ".py",
   "mimetype": "text/x-python",
   "name": "python",
   "nbconvert_exporter": "python",
   "pygments_lexer": "ipython3",
   "version": "3.7.3"
  }
 },
 "nbformat": 4,
 "nbformat_minor": 2
}
